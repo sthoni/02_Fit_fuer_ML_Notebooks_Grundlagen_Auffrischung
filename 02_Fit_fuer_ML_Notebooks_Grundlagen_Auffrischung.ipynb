{
 "cells": [
  {
   "cell_type": "markdown",
   "id": "6c138a37-f5a9-4329-a086-b698cb89d7e3",
   "metadata": {},
   "source": [
    "# Fit für Maschinelles Lernen mit Jupyter Notebooks!\n",
    "\n",
    "Hallo zusammen!\n",
    "\n",
    "In der letzten Stunde haben wir erste Erfahrungen mit Jupyter Notebooks gesammelt. Dabei haben wir gemerkt, dass ein paar Dinge noch geübt werden müssen, damit wir alle gut mit den spannenden Themen des Maschinellen Lernens (ML) starten können.\n",
    "\n",
    "**Worum geht es heute?**\n",
    "1.  **Lese-Power aktivieren:** Wir schauen, warum es super wichtig ist, die Texte in den Notebooks genau zu lesen.\n",
    "2.  **Python-Werkzeuge schärfen:** Wir frischen die wichtigsten Python-Grundlagen auf (besonders Variablen!).\n",
    "3.  **Was sind diese \"Bibliotheken\"?** Eine kleine Erklärung, was `import pandas` und Ähnliches bedeutet.\n",
    "4.  **Von Code zu \"Lernen\":** Wie hängt das Programmieren mit Maschinellem Lernen zusammen?\n",
    "5.  **Forscher-Protokoll:** Wir üben, unsere Ergebnisse und Gedanken festzuhalten.\n",
    "\n",
    "**Unser Ziel:** Dass ihr danach sicherer mit den Notebooks (wie denen von inf-schule.de) arbeiten könnt!\n",
    "\n",
    "---"
   ]
  },
  {
   "cell_type": "markdown",
   "id": "4d6e8ad3-8226-47c5-b771-2929eff91c40",
   "metadata": {},
   "source": [
    "## Teil 1: Superkraft – Genaues Lesen! 📖\n",
    "\n",
    "In Jupyter Notebooks gibt es nicht nur Code-Zellen, sondern auch viele Text-Zellen (wie diese hier!). Diese Text-Zellen sind super wichtig!\n",
    "\n",
    "* Sie erklären, **was** du tun sollst.\n",
    "* Sie geben **Hintergrundinformationen**.\n",
    "* Sie helfen dir, den **Code zu verstehen**.\n",
    "\n",
    "**Wenn man die Texte nicht genau liest, ist es wie Kochen ohne Rezept – das Ergebnis ist oft überraschend!** 😉\n",
    "\n",
    "**Kleine Lese-Übung:**\n",
    "Welches Wort im vorherigen Satz wurde **fett** geschrieben und hat mit Kochen zu tun?\n",
    "Schreibe deine Antwort in die nächste Code-Zelle als Kommentar. (Erinnerung: Kommentare starten mit `#`)\n",
    "Führe die Zelle dann mit `Shift + Enter` aus."
   ]
  },
  {
   "cell_type": "code",
   "execution_count": null,
   "id": "8ac8f0b4-db84-4cf8-b425-79bba4b7184e",
   "metadata": {},
   "outputs": [],
   "source": [
    "# Deine Antwort hier:\n",
    "# Das Wort war: ____"
   ]
  },
  {
   "cell_type": "markdown",
   "id": "ad23473e-ac73-4466-8ee7-8dd036d52808",
   "metadata": {},
   "source": [
    "Siehst du? Kleine Aufgaben helfen, aufmerksam zu bleiben! In den inf-schule.de Notebooks gibt es oft solche Hinweise oder Fragen in den Texten.\n",
    "\n",
    "---"
   ]
  },
  {
   "cell_type": "markdown",
   "id": "d83f5693-ea21-411b-8cea-7362fc91dccf",
   "metadata": {},
   "source": [
    "## Teil 2: Python-Werkzeugkasten auffrischen 🛠️\n",
    "\n",
    "Einige Python-Grundlagen brauchen wir immer wieder. Lass uns die wichtigsten kurz wiederholen!\n",
    "\n",
    "### A) Variablen – Die Gedächtnisstützen des Computers\n",
    "\n",
    "Stell dir eine Variable wie eine **beschriftete Kiste** vor, in der du etwas aufbewahren kannst (eine Zahl, einen Text, ...).\n",
    "\n",
    "* **Deklaration und Zuweisung:** Du gibst der Kiste einen Namen und legst etwas hinein.\n",
    "    * Beispiel: `alter = 15` (Die Kiste `alter` enthält jetzt die Zahl 15)\n",
    "* **Nutzung:** Du kannst schauen, was in der Kiste ist oder den Inhalt für Berechnungen verwenden.\n",
    "    * Beispiel: `print(alter)` gibt den Inhalt der Kiste `alter` aus."
   ]
  },
  {
   "cell_type": "code",
   "execution_count": null,
   "id": "be3b6236-180f-4ee9-9bf9-7c04964672ad",
   "metadata": {},
   "outputs": [],
   "source": [
    "# Beispiel für Variablen:\n",
    "schueler_name = \"Max\"  # Eine Variable für Text (nennt man \"String\")\n",
    "anzahl_hausaufgaben = 3 # Eine Variable für eine ganze Zahl (nennt man \"Integer\")\n",
    "pi_ungefaehr = 3.14     # Eine Variable für eine Kommazahl (nennt man \"Float\")\n",
    "\n",
    "# Gib den Inhalt der Variablen aus:\n",
    "print(\"Schülername:\", schueler_name)\n",
    "print(\"Anzahl Hausaufgaben:\", anzahl_hausaufgaben)\n",
    "print(\"Pi ist ungefähr:\", pi_ungefaehr)\n",
    "\n",
    "# Ändere den Wert von anzahl_hausaufgaben auf 5 und führe die Zelle nochmal aus!\n",
    "# Dein Code hier:\n",
    "anzahl_hausaufgaben = ____\n",
    "\n",
    "print(\"Neue Anzahl Hausaufgaben:\", anzahl_hausaufgaben)"
   ]
  },
  {
   "cell_type": "markdown",
   "id": "249b9f89-a260-42f4-8bcd-6cfaf22b9d31",
   "metadata": {},
   "source": [
    "**Übung 2.1: Deine eigene Variable**\n",
    "1.  Denke dir einen Namen für eine neue Variable aus (z.B. `lieblingsfarbe`, `punkte_im_spiel`).\n",
    "2.  Weise dieser Variablen in der nächsten Code-Zelle einen passenden Wert zu.\n",
    "3.  Lasse den Inhalt deiner Variablen mit `print()` ausgeben.\n",
    "4.  Füge einen Kommentar hinzu, der erklärt, was deine Variable speichert."
   ]
  },
  {
   "cell_type": "code",
   "execution_count": null,
   "id": "a3d53c07-f31f-4579-9b77-6a6b08c4ae98",
   "metadata": {},
   "outputs": [],
   "source": [
    "# Übung 2.1: Hier ist Platz für deinen Code!\n",
    "# Beispiel:\n",
    "# Das ist meine Punktzahl im letzten Spiel\n",
    "punkte_im_spiel = 1500\n",
    "print(\"Meine Punkte:\", punkte_im_spiel)\n",
    "\n",
    "# Dein Code:\n",
    "____ = ____  # Dein Variablenname und Wert\n",
    "# Dein Kommentar\n",
    "print(____)   # Gib deine Variable aus"
   ]
  },
  {
   "cell_type": "markdown",
   "id": "d831e992-a1cd-4b61-9cda-fbfd1c8a9aff",
   "metadata": {},
   "source": [
    "### B) Kommentare – Notizen für dich und andere\n",
    "\n",
    "Du hast es schon gesehen: Zeilen, die mit einem `#` beginnen, sind **Kommentare**.\n",
    "Python ignoriert sie beim Ausführen des Codes.\n",
    "\n",
    "**Warum sind Kommentare nützlich?**\n",
    "* Sie helfen **dir selbst**, deinen Code später wieder zu verstehen.\n",
    "* Sie helfen **anderen**, deinen Code zu verstehen.\n",
    "* Man kann damit Code-Teile **testweise \"ausschalten\"**, ohne sie zu löschen.\n",
    "\n",
    "**Beispiel:**"
   ]
  },
  {
   "cell_type": "code",
   "execution_count": null,
   "id": "7281625e-eec0-4729-add1-28f234b481b7",
   "metadata": {},
   "outputs": [],
   "source": [
    "# Dies ist ein Kommentar, der eine Berechnung erklärt.\n",
    "# Wir addieren zwei Zahlen:\n",
    "summe = 10 + 5\n",
    "print(summe)\n",
    "\n",
    "# print(\"Diese Zeile wird nicht ausgeführt, da sie auskommentiert ist.\")"
   ]
  },
  {
   "cell_type": "markdown",
   "id": "67c43b47-34c3-4a05-998a-572637751cbf",
   "metadata": {},
   "source": [
    "### C) Was sind eigentlich diese `import`-Befehle? (z.B. `import pandas`)\n",
    "\n",
    "Stell dir vor, Python selbst ist ein gut ausgestatteter Werkzeugkasten mit den grundlegendsten Werkzeugen (wie `print()`, Variablen, einfache Rechenarten).\n",
    "\n",
    "Manchmal brauchst du aber **Spezialwerkzeuge** für bestimmte Aufgaben. Diese Spezialwerkzeuge sind in sogenannten **Bibliotheken** (oder Modulen) gesammelt.\n",
    "\n",
    "* Eine Bibliothek ist wie ein **zusätzlicher, spezialisierter Werkzeugkasten**.\n",
    "    * `pandas` ist z.B. ein Werkzeugkasten für die Arbeit mit Tabellen (Datenanalyse).\n",
    "    * `math` ist ein Werkzeugkasten für mathematische Funktionen (Wurzel ziehen, Sinus, etc.).\n",
    "    * `random` ist ein Werkzeugkasten, um Zufallszahlen zu erzeugen.\n",
    "\n",
    "Mit dem Befehl `import BIBLIOTHEKSNAME` sagst du Python: \"Hey, ich möchte jetzt auch die Werkzeuge aus dem Kasten `BIBLIOTHEKSNAME` benutzen können!\"\n",
    "\n",
    "**Beispiel (ohne dass wir jetzt tief einsteigen):**"
   ]
  },
  {
   "cell_type": "code",
   "execution_count": null,
   "id": "3fa17a82-1197-492f-b048-570570c60c4e",
   "metadata": {},
   "outputs": [],
   "source": [
    "import random # Wir holen uns den \"Zufalls-Werkzeugkasten\"\n",
    "\n",
    "zufallszahl = random.randint(1, 6) # Wir benutzen ein Werkzeug daraus, um eine Zufallszahl zwischen 1 und 6 zu würfeln.\n",
    "print(\"Meine Würfelzahl ist:\", zufallszahl)\n",
    "\n",
    "# Führe die Zelle mehrmals aus! Was beobachtest du?\n",
    "# Notiere deine Beobachtung als Kommentar unter diesem Code.\n",
    "#"
   ]
  },
  {
   "cell_type": "markdown",
   "id": "f00a02b3-434c-4949-97eb-f3768606290e",
   "metadata": {},
   "source": [
    "In den inf-schule.de Notebooks werdet ihr oft `import pandas as pd` sehen.\n",
    "* `import pandas` holt den Werkzeugkasten \"pandas\".\n",
    "* `as pd` ist wie ein Spitzname. Statt immer `pandas.werkzeug()` zu schreiben, kann man dann kürzer `pd.werkzeug()` schreiben. Praktisch, oder?\n",
    "\n",
    "**Du musst jetzt noch nicht genau wissen, was alle Werkzeuge in `pandas` machen!** Wichtig ist nur: Mit `import` holen wir uns zusätzliche Funktionen, die andere schon für uns programmiert haben.\n",
    "\n",
    "---"
   ]
  },
  {
   "cell_type": "markdown",
   "id": "6e2235d4-a285-4c6f-9ae3-348a005bd985",
   "metadata": {},
   "source": [
    "## Teil 3: Von einfachen Regeln zu „Maschine, lerne!“ 🤖\n",
    "\n",
    "Okay, wir können jetzt Variablen benutzen und wissen, wie man Kommentare schreibt und externe Werkzeuge importiert. Aber was hat das mit **Maschinellem Lernen (ML)** zu tun?\n",
    "\n",
    "**Schritt 1: Der Computer folgt unseren Regeln**\n",
    "\n",
    "Wir können dem Computer klare Anweisungen geben, was er tun soll. Zum Beispiel eine „Wenn-Dann-Regel“:"
   ]
  },
  {
   "cell_type": "code",
   "execution_count": null,
   "id": "73d305bc-9de6-4614-9431-903d7be28786",
   "metadata": {},
   "outputs": [],
   "source": [
    "# Eine einfache Regel: Ist eine Zahl größer als 10?\n",
    "meine_zahl = 15 # Ändere diesen Wert zum Testen!\n",
    "\n",
    "if meine_zahl > 10:\n",
    "    print(meine_zahl, \"ist größer als 10.\")\n",
    "else:\n",
    "    print(meine_zahl, \"ist NICHT größer als 10 (oder gleich 10).\")"
   ]
  },
  {
   "cell_type": "markdown",
   "id": "9a9ee78d-8cbe-4db5-ac12-68e9908214f6",
   "metadata": {},
   "source": [
    "**Frage zum Nachdenken:** Wer hat in diesem Beispiel die \"Regel\" (also `meine_zahl > 10`) festgelegt und dem Computer gesagt?\n",
    "*Antwort: Wir, die Programmierer!*\n",
    "\n",
    "**Schritt 2: Die Idee des Maschinellen Lernens**\n",
    "\n",
    "Beim Maschinellen Lernen wollen wir einen Schritt weiter gehen:\n",
    "Statt dass *wir* dem Computer jede Regel exakt vorgeben, geben wir ihm viele **Beispiele (Daten)**.\n",
    "Der Computer versucht dann, **selbstständig Muster und Regeln in diesen Daten zu finden.**\n",
    "\n",
    "**Analogie: Kuchen backen 🍰**\n",
    "* **Klassisches Programmieren:** Du gibst dem Computer ein exaktes Rezept (Regeln) für einen Kuchen, und er \"backt\" ihn (führt die Anweisungen aus).\n",
    "* **Maschinelles Lernen (vereinfacht):** Du zeigst dem Computer 1000 Bilder von leckeren Kuchen und 1000 Bilder von Dingen, die keine Kuchen sind. Er soll dann lernen, selbstständig zu erkennen, ob ein neues Bild einen Kuchen zeigt oder nicht. Er versucht, die \"Regeln\" für \"Was macht einen Kuchen aus?\" aus den Bild-Beispielen zu lernen.\n",
    "\n",
    "**Warum brauchen wir dafür Python-Grundlagen wie Variablen, `print()` etc.?**\n",
    "* **Daten speichern:** Die \"Beispiele\" (Daten) für ML müssen irgendwo gespeichert werden – oft in Variablen oder komplexeren Datenstrukturen, die Bibliotheken wie `pandas` bereitstellen.\n",
    "* **Regeln formulieren/anwenden:** Auch wenn der Computer Regeln \"lernt\", werden diese intern oft durch mathematische Funktionen und logische Verknüpfungen dargestellt, die wir mit Python-Code steuern und testen.\n",
    "* **Ergebnisse anzeigen:** Mit `print()` oder grafischen Ausgaben (aus anderen Bibliotheken) schauen wir uns an, was der Computer \"gelernt\" hat oder welche Vorhersagen er macht.\n",
    "\n",
    "**Die Python-Grundlagen sind also euer Handwerkszeug, um die \"Lernprozesse\" von Maschinen zu steuern, zu verstehen und zu nutzen!** Die Notebooks von inf-schule.de zeigen euch dann, wie man mit speziellen Werkzeugen (wie `pandas` für Daten und später `scikit-learn` für ML-Algorithmen) diese Lernprozesse konkret umsetzt.\n",
    "\n",
    "---"
   ]
  },
  {
   "cell_type": "markdown",
   "id": "a9913ba6-b058-4c75-beef-c1a2a904be4b",
   "metadata": {},
   "source": [
    "## Teil 4: Dein Auftrag – Werde zum Notebook-Forscher! 🕵️‍♀️🕵️‍♂️\n",
    "\n",
    "In der nächsten Phase werden wir gemeinsam ein Notebook (wahrscheinlich von inf-schule.de) Zeile für Zeile durchsprechen.\n",
    "\n",
    "**Deine Aufgabe dabei wird sein, ein \"Forscher-Protokoll\" zu führen.** Das bedeutet:\n",
    "Du sollst dir in **eigenen Worten Notizen** in deinem CryptPad machen.\n",
    "\n",
    "**Was könntest du dokumentieren?**\n",
    "* **Was macht dieser Code-Abschnitt?** (Kurze Beschreibung)\n",
    "* **Welche neuen Python-Befehle oder -Konzepte habe ich hier gesehen?**\n",
    "* **Was ist das Ergebnis, wenn der Code ausgeführt wird?**\n",
    "* **Gab es eine Fehlermeldung? Was könnte der Grund sein?**\n",
    "* **Was habe ich hier gelernt oder besonders gut verstanden?**\n",
    "* **Welche Fragen habe ich noch zu diesem Abschnitt?**\n",
    "\n",
    "Dieses Protokollieren hilft dir ungemein, die Inhalte besser zu verstehen und später nachzuvollziehen!\n",
    "\n",
    "**Beispiel für eine Notiz in einer Markdown-Zelle:**\n",
    "\n",
    "```markdown\n",
    "### Meine Notizen zu Code-Zelle [5] (Beispiel)\n",
    "\n",
    "*Zusammenfassung:* In dieser Zelle wurde eine Variable `temperatur` erstellt und ihr der Wert 25 zugewiesen. Dann wurde mit einer `if-else`-Abfrage geprüft, ob es warm genug für ein Eis ist (Regel: über 20 Grad).\n",
    "\n",
    "*Ergebnis:* Die Ausgabe war \"Ja, kauf dir ein Eis!\".\n",
    "\n",
    "*Gelernt:* Ich kann mit `if` und `else` Bedingungen prüfen und je nachdem unterschiedlichen Code ausführen lassen. Das `f\"...\"` in `print()` ist praktisch, um Text und Variablenwerte zu mischen.\n",
    "\n",
    "*Frage:* Was passiert, wenn die Temperatur genau 20 ist? (Antwort: Dann gilt die `else`-Bedingung, weil `20 > 20` falsch ist).\n",
    "```\n",
    "\n",
    "---"
   ]
  },
  {
   "cell_type": "markdown",
   "id": "1ac529eb-a9d0-4e28-824a-d911465536e5",
   "metadata": {},
   "source": [
    "**Abschluss und Ausblick**\n",
    "\n",
    "Super! Du hast jetzt deine Lese-Power und Python-Werkzeuge hoffentlich wieder startklar gemacht und eine erste Idee bekommen, wie das alles mit Maschinellem Lernen zusammenhängt.\n",
    "\n",
    "Wenn du die Texte in den Notebooks sorgfältig liest, deine Python-Grundlagen nutzt und deine Beobachtungen protokollierst, wirst du die nächsten Schritte zum Maschinellen Lernen meistern!\n",
    "\n",
    "Jetzt sind wir bereit, uns das erste Notebook von inf-schule.de genauer anzusehen und gemeinsam zu dokumentieren!"
   ]
  },
  {
   "cell_type": "code",
   "execution_count": null,
   "id": "d3857572-b616-472a-93c3-5adc6ec74411",
   "metadata": {},
   "outputs": [],
   "source": []
  }
 ],
 "metadata": {
  "kernelspec": {
   "display_name": "Python 3 (ipykernel)",
   "language": "python",
   "name": "python3"
  },
  "language_info": {
   "codemirror_mode": {
    "name": "ipython",
    "version": 3
   },
   "file_extension": ".py",
   "mimetype": "text/x-python",
   "name": "python",
   "nbconvert_exporter": "python",
   "pygments_lexer": "ipython3",
   "version": "3.12.6"
  }
 },
 "nbformat": 4,
 "nbformat_minor": 5
}
